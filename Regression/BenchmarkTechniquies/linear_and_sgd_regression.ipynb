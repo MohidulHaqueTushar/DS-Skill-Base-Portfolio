{
 "cells": [
  {
   "cell_type": "markdown",
   "id": "50f19b5b-5162-435c-9cdb-e4debea2f522",
   "metadata": {},
   "source": [
    "# Concepts of Simple Linear Regression\n",
    "### Less complex problem"
   ]
  },
  {
   "cell_type": "code",
   "execution_count": 16,
   "id": "24376624-d726-4651-8ecd-ba84c71069ab",
   "metadata": {},
   "outputs": [],
   "source": [
    "\"\"\"import necessary modules\"\"\"\n",
    "import numpy as np\n",
    "import matplotlib.pyplot as plt\n",
    "from sklearn.preprocessing import add_dummy_feature\n",
    "from sklearn.linear_model import LinearRegression\n",
    "from sklearn.linear_model import SGDRegressor"
   ]
  },
  {
   "cell_type": "code",
   "execution_count": 17,
   "id": "bec285d1-bcbe-4168-bdea-feef4de39a7b",
   "metadata": {},
   "outputs": [
    {
     "name": "stdout",
     "output_type": "stream",
     "text": [
      "[[0.74908024]\n",
      " [1.90142861]\n",
      " [1.46398788]\n",
      " [1.19731697]\n",
      " [0.31203728]\n",
      " [0.31198904]\n",
      " [0.11616722]\n",
      " [1.73235229]\n",
      " [1.20223002]\n",
      " [1.41614516]\n",
      " [0.04116899]\n",
      " [1.9398197 ]\n",
      " [1.66488528]\n",
      " [0.42467822]\n",
      " [0.36364993]\n",
      " [0.36680902]\n",
      " [0.60848449]\n",
      " [1.04951286]\n",
      " [0.86389004]\n",
      " [0.58245828]\n",
      " [1.22370579]\n",
      " [0.27898772]\n",
      " [0.5842893 ]\n",
      " [0.73272369]\n",
      " [0.91213997]\n",
      " [1.57035192]\n",
      " [0.39934756]\n",
      " [1.02846888]\n",
      " [1.18482914]\n",
      " [0.09290083]\n",
      " [1.2150897 ]\n",
      " [0.34104825]\n",
      " [0.13010319]\n",
      " [1.89777107]\n",
      " [1.93126407]\n",
      " [1.6167947 ]\n",
      " [0.60922754]\n",
      " [0.19534423]\n",
      " [1.36846605]\n",
      " [0.88030499]\n",
      " [0.24407647]\n",
      " [0.99035382]\n",
      " [0.06877704]\n",
      " [1.8186408 ]\n",
      " [0.51755996]\n",
      " [1.32504457]\n",
      " [0.62342215]\n",
      " [1.04013604]\n",
      " [1.09342056]\n",
      " [0.36970891]\n",
      " [1.93916926]\n",
      " [1.55026565]\n",
      " [1.87899788]\n",
      " [1.7896547 ]\n",
      " [1.19579996]\n",
      " [1.84374847]\n",
      " [0.176985  ]\n",
      " [0.39196572]\n",
      " [0.09045458]\n",
      " [0.65066066]\n",
      " [0.77735458]\n",
      " [0.54269806]\n",
      " [1.65747502]\n",
      " [0.71350665]\n",
      " [0.56186902]\n",
      " [1.08539217]\n",
      " [0.28184845]\n",
      " [1.60439396]\n",
      " [0.14910129]\n",
      " [1.97377387]\n",
      " [1.54448954]\n",
      " [0.39743136]\n",
      " [0.01104423]\n",
      " [1.63092286]\n",
      " [1.41371469]\n",
      " [1.45801434]\n",
      " [1.54254069]\n",
      " [0.1480893 ]\n",
      " [0.71693146]\n",
      " [0.23173812]\n",
      " [1.72620685]\n",
      " [1.24659625]\n",
      " [0.66179605]\n",
      " [0.1271167 ]\n",
      " [0.62196464]\n",
      " [0.65036664]\n",
      " [1.45921236]\n",
      " [1.27511494]\n",
      " [1.77442549]\n",
      " [0.94442985]\n",
      " [0.23918849]\n",
      " [1.42648957]\n",
      " [1.5215701 ]\n",
      " [1.1225544 ]\n",
      " [1.54193436]\n",
      " [0.98759119]\n",
      " [1.04546566]\n",
      " [0.85508204]\n",
      " [0.05083825]\n",
      " [0.21578285]\n",
      " [0.06285837]\n",
      " [1.27282082]\n",
      " [0.62871196]\n",
      " [1.01714138]\n",
      " [1.81513295]\n",
      " [0.49858446]\n",
      " [0.82076585]\n",
      " [1.51110228]\n",
      " [0.45759633]\n",
      " [0.15395982]\n",
      " [0.57950291]\n",
      " [0.32244257]\n",
      " [1.8593953 ]\n",
      " [1.61624076]\n",
      " [1.26680751]\n",
      " [1.74292118]\n",
      " [1.60734415]\n",
      " [0.37314012]\n",
      " [1.785118  ]\n",
      " [1.07868448]\n",
      " [1.61488031]\n",
      " [1.7921826 ]\n",
      " [0.63600695]\n",
      " [0.22010385]\n",
      " [0.45587033]\n",
      " [0.85421558]\n",
      " [1.63602953]\n",
      " [1.72146117]\n",
      " [0.01390426]\n",
      " [1.02149461]\n",
      " [0.83482201]\n",
      " [0.44421562]\n",
      " [0.23973073]\n",
      " [0.67523034]\n",
      " [1.88581941]\n",
      " [0.64640586]\n",
      " [1.03758124]\n",
      " [1.40603792]\n",
      " [0.7272592 ]\n",
      " [1.94356417]\n",
      " [1.92489459]\n",
      " [0.50356459]\n",
      " [0.99449701]\n",
      " [0.60175662]\n",
      " [0.56968099]\n",
      " [0.07377389]\n",
      " [1.21912867]\n",
      " [1.00535805]\n",
      " [0.1029575 ]\n",
      " [0.55729293]\n",
      " [1.81653177]\n",
      " [0.47912378]\n",
      " [0.28978974]\n",
      " [0.97890552]\n",
      " [1.97130091]\n",
      " [0.48411054]\n",
      " [1.34427109]\n",
      " [1.52323923]\n",
      " [0.47527509]\n",
      " [1.4564327 ]\n",
      " [0.73556627]\n",
      " [1.26461166]\n",
      " [1.26705942]\n",
      " [1.07154937]\n",
      " [0.18057954]\n",
      " [1.67060499]\n",
      " [0.64156013]\n",
      " [0.37303702]\n",
      " [0.08155028]\n",
      " [1.18178589]\n",
      " [1.35512872]\n",
      " [0.03317566]\n",
      " [1.02418612]\n",
      " [0.45299155]\n",
      " [1.29034558]\n",
      " [0.34873286]\n",
      " [1.38187548]\n",
      " [0.77347069]\n",
      " [1.87345998]\n",
      " [0.27504189]\n",
      " [0.6821327 ]\n",
      " [0.22694704]\n",
      " [1.84938724]\n",
      " [1.75467871]\n",
      " [0.51588326]\n",
      " [1.31996809]\n",
      " [1.6344444 ]\n",
      " [1.11040162]\n",
      " [1.05930116]\n",
      " [0.48370458]\n",
      " [0.18620554]\n",
      " [1.79443152]\n",
      " [1.80083611]\n",
      " [1.26620291]\n",
      " [0.67805958]\n",
      " [0.69841915]\n",
      " [1.45191136]\n",
      " [1.79422052]\n",
      " [1.77417285]\n",
      " [1.55975109]]\n"
     ]
    }
   ],
   "source": [
    "\"\"\"creating example datapoints\"\"\"\n",
    "np.random.seed(42)\n",
    "m = 200\n",
    "X = 2 * np.random.rand(m, 1)\n",
    "print(X)"
   ]
  },
  {
   "cell_type": "code",
   "execution_count": 18,
   "id": "a33462d8-0642-43c6-905e-fea9006c31bc",
   "metadata": {},
   "outputs": [
    {
     "name": "stdout",
     "output_type": "stream",
     "text": [
      "[[ 5.56721599]\n",
      " [ 9.93653954]\n",
      " [ 8.68503612]\n",
      " [ 6.87759949]\n",
      " [ 6.80188635]\n",
      " [ 5.40980004]\n",
      " [ 3.15719818]\n",
      " [ 9.85361048]\n",
      " [ 6.6320084 ]\n",
      " [ 9.03552007]\n",
      " [ 5.28210254]\n",
      " [ 8.99877679]\n",
      " [ 9.95803197]\n",
      " [ 5.68681559]\n",
      " [ 5.91300996]\n",
      " [ 6.99722004]\n",
      " [ 5.58006534]\n",
      " [ 6.39480243]\n",
      " [ 5.70215568]\n",
      " [ 4.93156456]\n",
      " [ 7.59401566]\n",
      " [ 5.17811514]\n",
      " [ 6.02955869]\n",
      " [ 7.02535431]\n",
      " [ 6.7494218 ]\n",
      " [10.16458985]\n",
      " [ 4.93338586]\n",
      " [ 9.8055758 ]\n",
      " [ 8.18015476]\n",
      " [ 3.42154492]\n",
      " [ 6.57437661]\n",
      " [ 5.50561716]\n",
      " [ 4.16684677]\n",
      " [10.40731372]\n",
      " [10.26702982]\n",
      " [ 8.77755518]\n",
      " [ 4.9808889 ]\n",
      " [ 3.07118546]\n",
      " [ 7.65888321]\n",
      " [ 7.49731376]\n",
      " [ 4.94632315]\n",
      " [ 5.72532268]\n",
      " [ 4.37951205]\n",
      " [ 9.84123979]\n",
      " [ 4.66882245]\n",
      " [ 8.12885881]\n",
      " [ 5.92847517]\n",
      " [ 5.97743783]\n",
      " [ 7.63804904]\n",
      " [ 5.66991126]\n",
      " [10.90055901]\n",
      " [ 9.70459899]\n",
      " [ 8.25932428]\n",
      " [ 8.43113906]\n",
      " [ 8.10243514]\n",
      " [10.04503136]\n",
      " [ 5.0460027 ]\n",
      " [ 9.02862867]\n",
      " [ 4.84225424]\n",
      " [ 7.08754762]\n",
      " [ 7.2860655 ]\n",
      " [ 6.27948544]\n",
      " [ 8.65715581]\n",
      " [ 6.89948918]\n",
      " [ 4.91278184]\n",
      " [ 7.01935789]\n",
      " [ 4.3601818 ]\n",
      " [ 8.89505602]\n",
      " [ 6.76196243]\n",
      " [ 8.05405643]\n",
      " [ 9.31972881]\n",
      " [ 3.57957822]\n",
      " [ 3.56120084]\n",
      " [ 9.98171917]\n",
      " [ 8.30542408]\n",
      " [ 7.29629823]\n",
      " [ 7.91231837]\n",
      " [ 5.12386566]\n",
      " [ 5.42042774]\n",
      " [ 4.91167295]\n",
      " [ 9.2241924 ]\n",
      " [ 7.08818841]\n",
      " [ 8.12933224]\n",
      " [ 5.01526912]\n",
      " [ 3.84075134]\n",
      " [ 6.13755425]\n",
      " [ 7.71585061]\n",
      " [ 8.67777816]\n",
      " [ 8.53075572]\n",
      " [ 6.71855311]\n",
      " [ 5.22255275]\n",
      " [ 9.14522392]\n",
      " [ 7.36441388]\n",
      " [ 7.03316195]\n",
      " [ 8.15085777]\n",
      " [ 6.30944435]\n",
      " [ 8.90185122]\n",
      " [ 6.97022782]\n",
      " [ 2.89163081]\n",
      " [ 5.56521051]\n",
      " [ 6.31073131]\n",
      " [ 8.85092773]\n",
      " [ 4.36676592]\n",
      " [ 6.56719007]\n",
      " [10.71230999]\n",
      " [ 4.78808391]\n",
      " [ 6.90611697]\n",
      " [ 9.30794088]\n",
      " [ 4.44585852]\n",
      " [ 4.4023541 ]\n",
      " [ 2.49724138]\n",
      " [ 3.94294008]\n",
      " [ 9.32561776]\n",
      " [ 7.6009391 ]\n",
      " [ 9.43283384]\n",
      " [ 7.79862216]\n",
      " [ 8.38198797]\n",
      " [ 5.25016093]\n",
      " [10.79662728]\n",
      " [ 5.8001913 ]\n",
      " [10.00780468]\n",
      " [ 9.38678086]\n",
      " [ 4.9265122 ]\n",
      " [ 5.12241502]\n",
      " [ 5.56667067]\n",
      " [ 5.96242985]\n",
      " [ 8.97789068]\n",
      " [ 8.7790699 ]\n",
      " [ 4.15523013]\n",
      " [ 7.72661449]\n",
      " [ 8.09048284]\n",
      " [ 4.09483136]\n",
      " [ 6.85222558]\n",
      " [ 4.07360323]\n",
      " [ 9.50567313]\n",
      " [ 6.5275348 ]\n",
      " [ 7.3937356 ]\n",
      " [ 7.59541423]\n",
      " [ 5.97365536]\n",
      " [ 9.33769156]\n",
      " [ 9.18531901]\n",
      " [ 6.36029587]\n",
      " [ 7.34050652]\n",
      " [ 5.11236026]\n",
      " [ 6.60864284]\n",
      " [ 4.52862121]\n",
      " [ 8.47024812]\n",
      " [ 7.64570298]\n",
      " [ 3.4798775 ]\n",
      " [ 5.11169775]\n",
      " [10.19688892]\n",
      " [ 6.04774161]\n",
      " [ 4.84846764]\n",
      " [ 7.05404394]\n",
      " [11.19156762]\n",
      " [ 4.86076024]\n",
      " [ 8.57991067]\n",
      " [ 8.36752504]\n",
      " [ 5.20814406]\n",
      " [ 9.46807494]\n",
      " [ 7.03211515]\n",
      " [ 8.60734462]\n",
      " [ 9.10665707]\n",
      " [ 7.23565195]\n",
      " [ 5.22369159]\n",
      " [ 8.70154822]\n",
      " [ 6.24884674]\n",
      " [ 4.98896801]\n",
      " [ 4.34164681]\n",
      " [ 8.14051468]\n",
      " [ 7.24716549]\n",
      " [ 6.19191425]\n",
      " [ 6.06654097]\n",
      " [ 4.14478604]\n",
      " [ 9.02914762]\n",
      " [ 5.83786127]\n",
      " [ 8.76974625]\n",
      " [ 6.94875759]\n",
      " [ 9.60813316]\n",
      " [ 3.92787129]\n",
      " [ 6.12220266]\n",
      " [ 4.00367942]\n",
      " [10.52328144]\n",
      " [ 9.11697874]\n",
      " [ 4.72215257]\n",
      " [ 7.63851843]\n",
      " [ 9.31626466]\n",
      " [ 6.76748032]\n",
      " [ 6.35568307]\n",
      " [ 5.69480096]\n",
      " [ 4.80358318]\n",
      " [ 8.87635137]\n",
      " [ 8.93147004]\n",
      " [ 8.03065868]\n",
      " [ 4.5860944 ]\n",
      " [ 4.68779367]\n",
      " [ 7.63728985]\n",
      " [ 9.16921441]\n",
      " [ 9.63342611]\n",
      " [10.15460949]]\n"
     ]
    }
   ],
   "source": [
    "\"\"\"define an equation: true DGP\"\"\"\n",
    "y = 4 + 3 * X + np.random.randn(m, 1)\n",
    "print(y)"
   ]
  },
  {
   "cell_type": "code",
   "execution_count": 19,
   "id": "31f8399f-7779-4d01-a4f3-4f0ad5d268aa",
   "metadata": {},
   "outputs": [
    {
     "data": {
      "image/png": "[encoded data removed]",
      "text/plain": [
       "<Figure size 600x400 with 1 Axes>"
      ]
     },
     "metadata": {},
     "output_type": "display_data"
    }
   ],
   "source": [
    "\"\"\"plot the datapoints\"\"\"\n",
    "plt.figure(figsize=(6, 4))\n",
    "plt.plot(X, y, \"b.\")\n",
    "plt.xlabel(\"$x_1$\")\n",
    "plt.ylabel(\"$y$\", rotation=0)\n",
    "plt.axis([0, 2, 0, 15])\n",
    "plt.grid()\n",
    "plt.show()"
   ]
  },
  {
   "cell_type": "markdown",
   "id": "173b9901-efcc-4497-a67c-cd8cd1b33681",
   "metadata": {},
   "source": [
    "## Manual Way"
   ]
  },
  {
   "cell_type": "code",
   "execution_count": 20,
   "id": "8d5f86da-8d75-445d-a079-8c7b314cdb06",
   "metadata": {},
   "outputs": [
    {
     "data": {
      "text/plain": [
       "array([[4.10520115],\n",
       "       [2.96096447]])"
      ]
     },
     "execution_count": 20,
     "metadata": {},
     "output_type": "execute_result"
    }
   ],
   "source": [
    "\"\"\"calculating theta by using the equation\"\"\"\n",
    "X_b = add_dummy_feature(X)\n",
    "theta_best = np.linalg.inv(X_b.T @ X_b) @ X_b.T @ y\n",
    "theta_best"
   ]
  },
  {
   "cell_type": "code",
   "execution_count": 21,
   "id": "d3caad93-e64f-4997-a5b1-b593b715472e",
   "metadata": {},
   "outputs": [
    {
     "data": {
      "text/plain": [
       "array([[ 4.10520115],\n",
       "       [10.02713008]])"
      ]
     },
     "execution_count": 21,
     "metadata": {},
     "output_type": "execute_result"
    }
   ],
   "source": [
    "\"\"\"prediction by using this above theta value\"\"\"\n",
    "X_new = np.array([[0], [2]])\n",
    "X_new_b = add_dummy_feature(X_new)\n",
    "y_predict = X_new_b @ theta_best\n",
    "y_predict"
   ]
  },
  {
   "cell_type": "code",
   "execution_count": 22,
   "id": "59a723c3-5a58-455c-b060-4095df3f0796",
   "metadata": {},
   "outputs": [
    {
     "data": {
      "image/png": "[encoded data removed]",
      "text/plain": [
       "<Figure size 600x400 with 1 Axes>"
      ]
     },
     "metadata": {},
     "output_type": "display_data"
    }
   ],
   "source": [
    "\"\"\"plot regression line\"\"\"\n",
    "plt.figure(figsize=(6, 4))\n",
    "plt.plot(X_new, y_predict, \"r-\", label=\"Predictions\")\n",
    "plt.plot(X, y, \"b.\")\n",
    "plt.xlabel(\"$x_1$\")\n",
    "plt.ylabel(\"$y$\", rotation=0)\n",
    "plt.axis([0, 2, 0, 15])\n",
    "plt.grid()\n",
    "plt.legend(loc=\"upper left\")\n",
    "plt.show()"
   ]
  },
  {
   "cell_type": "markdown",
   "id": "e124e59b-830e-4747-8149-2da7dede150c",
   "metadata": {},
   "source": [
    "## Automatic Way"
   ]
  },
  {
   "cell_type": "code",
   "execution_count": 23,
   "id": "423571fc-c606-427a-9649-0122f92e3dd6",
   "metadata": {},
   "outputs": [
    {
     "data": {
      "text/plain": [
       "(array([4.10520115]), array([[2.96096447]]))"
      ]
     },
     "execution_count": 23,
     "metadata": {},
     "output_type": "execute_result"
    }
   ],
   "source": [
    "\"\"\"create and fit the linear regression model: automatically seperates theta values\"\"\"\n",
    "lin_reg = LinearRegression()\n",
    "lin_reg.fit(X, y)\n",
    "lin_reg.intercept_, lin_reg.coef_ "
   ]
  },
  {
   "cell_type": "code",
   "execution_count": 24,
   "id": "653da2da-82a7-4f64-947d-e8f827add062",
   "metadata": {},
   "outputs": [
    {
     "data": {
      "text/plain": [
       "array([[ 4.10520115],\n",
       "       [10.02713008]])"
      ]
     },
     "execution_count": 24,
     "metadata": {},
     "output_type": "execute_result"
    }
   ],
   "source": [
    "\"\"\"compute prediction\"\"\"\n",
    "y_prediction = lin_reg.predict(X_new)\n",
    "y_prediction"
   ]
  },
  {
   "cell_type": "markdown",
   "id": "57a8fb69-7b3b-4ee6-9bee-3ac3a7771b24",
   "metadata": {},
   "source": [
    "#### Two other ways to compute theta values:"
   ]
  },
  {
   "cell_type": "code",
   "execution_count": 25,
   "id": "ddc7881a-c695-4800-80ec-5c448d47ae62",
   "metadata": {},
   "outputs": [
    {
     "data": {
      "text/plain": [
       "array([[4.10520115],\n",
       "       [2.96096447]])"
      ]
     },
     "execution_count": 25,
     "metadata": {},
     "output_type": "execute_result"
    }
   ],
   "source": [
    "\"\"\"way one\"\"\"\n",
    "theta_best_svd, residuals, rank, s = np.linalg.lstsq(X_b, y, rcond=1e-6)\n",
    "theta_best_svd"
   ]
  },
  {
   "cell_type": "code",
   "execution_count": 26,
   "id": "9a50d65e-4e05-43ac-ad61-7005ca480b9a",
   "metadata": {},
   "outputs": [
    {
     "data": {
      "text/plain": [
       "array([[4.10520115],\n",
       "       [2.96096447]])"
      ]
     },
     "execution_count": 26,
     "metadata": {},
     "output_type": "execute_result"
    }
   ],
   "source": [
    "\"\"\"way two\"\"\"\n",
    "np.linalg.pinv(X_b) @ y"
   ]
  },
  {
   "cell_type": "code",
   "execution_count": 27,
   "id": "71ac5667-4b47-4c2d-b3aa-b08ed23f2002",
   "metadata": {},
   "outputs": [
    {
     "data": {
      "image/png": "[encoded data removed]",
      "text/plain": [
       "<Figure size 600x400 with 1 Axes>"
      ]
     },
     "metadata": {},
     "output_type": "display_data"
    }
   ],
   "source": [
    "\"\"\"plot regression line\"\"\"\n",
    "plt.figure(figsize=(6, 4))\n",
    "plt.plot(X_new, y_prediction, \"r-\", label=\"Predictions\")\n",
    "plt.plot(X, y, \"b.\")\n",
    "plt.xlabel(\"$x_1$\")\n",
    "plt.ylabel(\"$y$\", rotation=0)\n",
    "plt.axis([0, 2, 0, 15])\n",
    "plt.grid()\n",
    "plt.legend(loc=\"upper left\")\n",
    "plt.show()"
   ]
  },
  {
   "cell_type": "markdown",
   "id": "4532f793-305b-442b-9d03-6853635c67cb",
   "metadata": {},
   "source": [
    "## Gradient Descent to Train Linear Regression Model\n",
    "### Used when the problem is very complex: Has three different versions\n",
    "    1. Batch Gradient Descent\n",
    "    2. Stochastic Gradient Descent\n",
    "    3. Mini-Batch Gradient Descent"
   ]
  },
  {
   "cell_type": "markdown",
   "id": "08603a59-976c-441c-a8f9-62437b370d60",
   "metadata": {},
   "source": [
    "#### Batch Gradient Descent"
   ]
  },
  {
   "cell_type": "code",
   "execution_count": 28,
   "id": "3f2ee2cb-4a55-46ac-8090-31707fb908dd",
   "metadata": {},
   "outputs": [
    {
     "data": {
      "text/plain": [
       "array([[4.10520115],\n",
       "       [2.96096447]])"
      ]
     },
     "execution_count": 28,
     "metadata": {},
     "output_type": "execute_result"
    }
   ],
   "source": [
    "\"\"\"setting parameters\"\"\"\n",
    "learning_rate = 0.1\n",
    "number_of_epochs = 1000\n",
    "total_datapoints = len(X_b)\n",
    "\n",
    "np.random.seed(42)\n",
    "theta = np.random.randn(2, 1)\n",
    "\n",
    "for epoch in range(number_of_epochs):\n",
    "    gradients = 2 / total_datapoints * X_b.T @ (X_b @ theta - y)\n",
    "    theta = theta - learning_rate * gradients\n",
    "theta"
   ]
  },
  {
   "cell_type": "markdown",
   "id": "56e58f98-a5fc-4f16-af22-a782b0f5f82d",
   "metadata": {},
   "source": [
    "#### Stochastic Gradient Descent"
   ]
  },
  {
   "cell_type": "code",
   "execution_count": 29,
   "id": "199a2099-6fd0-4625-b6ea-826a028f55ad",
   "metadata": {},
   "outputs": [
    {
     "data": {
      "text/html": [
       "<style>#sk-container-id-2 {color: black;background-color: white;}#sk-container-id-2 pre{padding: 0;}#sk-container-id-2 div.sk-toggleable {background-color: white;}#sk-container-id-2 label.sk-toggleable__label {cursor: pointer;display: block;width: 100%;margin-bottom: 0;padding: 0.3em;box-sizing: border-box;text-align: center;}#sk-container-id-2 label.sk-toggleable__label-arrow:before {content: \"▸\";float: left;margin-right: 0.25em;color: #696969;}#sk-container-id-2 label.sk-toggleable__label-arrow:hover:before {color: black;}#sk-container-id-2 div.sk-estimator:hover label.sk-toggleable__label-arrow:before {color: black;}#sk-container-id-2 div.sk-toggleable__content {max-height: 0;max-width: 0;overflow: hidden;text-align: left;background-color: #f0f8ff;}#sk-container-id-2 div.sk-toggleable__content pre {margin: 0.2em;color: black;border-radius: 0.25em;background-color: #f0f8ff;}#sk-container-id-2 input.sk-toggleable__control:checked~div.sk-toggleable__content {max-height: 200px;max-width: 100%;overflow: auto;}#sk-container-id-2 input.sk-toggleable__control:checked~label.sk-toggleable__label-arrow:before {content: \"▾\";}#sk-container-id-2 div.sk-estimator input.sk-toggleable__control:checked~label.sk-toggleable__label {background-color: #d4ebff;}#sk-container-id-2 div.sk-label input.sk-toggleable__control:checked~label.sk-toggleable__label {background-color: #d4ebff;}#sk-container-id-2 input.sk-hidden--visually {border: 0;clip: rect(1px 1px 1px 1px);clip: rect(1px, 1px, 1px, 1px);height: 1px;margin: -1px;overflow: hidden;padding: 0;position: absolute;width: 1px;}#sk-container-id-2 div.sk-estimator {font-family: monospace;background-color: #f0f8ff;border: 1px dotted black;border-radius: 0.25em;box-sizing: border-box;margin-bottom: 0.5em;}#sk-container-id-2 div.sk-estimator:hover {background-color: #d4ebff;}#sk-container-id-2 div.sk-parallel-item::after {content: \"\";width: 100%;border-bottom: 1px solid gray;flex-grow: 1;}#sk-container-id-2 div.sk-label:hover label.sk-toggleable__label {background-color: #d4ebff;}#sk-container-id-2 div.sk-serial::before {content: \"\";position: absolute;border-left: 1px solid gray;box-sizing: border-box;top: 0;bottom: 0;left: 50%;z-index: 0;}#sk-container-id-2 div.sk-serial {display: flex;flex-direction: column;align-items: center;background-color: white;padding-right: 0.2em;padding-left: 0.2em;position: relative;}#sk-container-id-2 div.sk-item {position: relative;z-index: 1;}#sk-container-id-2 div.sk-parallel {display: flex;align-items: stretch;justify-content: center;background-color: white;position: relative;}#sk-container-id-2 div.sk-item::before, #sk-container-id-2 div.sk-parallel-item::before {content: \"\";position: absolute;border-left: 1px solid gray;box-sizing: border-box;top: 0;bottom: 0;left: 50%;z-index: -1;}#sk-container-id-2 div.sk-parallel-item {display: flex;flex-direction: column;z-index: 1;position: relative;background-color: white;}#sk-container-id-2 div.sk-parallel-item:first-child::after {align-self: flex-end;width: 50%;}#sk-container-id-2 div.sk-parallel-item:last-child::after {align-self: flex-start;width: 50%;}#sk-container-id-2 div.sk-parallel-item:only-child::after {width: 0;}#sk-container-id-2 div.sk-dashed-wrapped {border: 1px dashed gray;margin: 0 0.4em 0.5em 0.4em;box-sizing: border-box;padding-bottom: 0.4em;background-color: white;}#sk-container-id-2 div.sk-label label {font-family: monospace;font-weight: bold;display: inline-block;line-height: 1.2em;}#sk-container-id-2 div.sk-label-container {text-align: center;}#sk-container-id-2 div.sk-container {/* jupyter's `normalize.less` sets `[hidden] { display: none; }` but bootstrap.min.css set `[hidden] { display: none !important; }` so we also need the `!important` here to be able to override the default hidden behavior on the sphinx rendered scikit-learn.org. See: https://github.com/scikit-learn/scikit-learn/issues/21755 */display: inline-block !important;position: relative;}#sk-container-id-2 div.sk-text-repr-fallback {display: none;}</style><div id=\"sk-container-id-2\" class=\"sk-top-container\"><div class=\"sk-text-repr-fallback\"><pre>SGDRegressor(n_iter_no_change=100, penalty=None, random_state=42, tol=1e-05)</pre><b>In a Jupyter environment, please rerun this cell to show the HTML representation or trust the notebook. <br />On GitHub, the HTML representation is unable to render, please try loading this page with nbviewer.org.</b></div><div class=\"sk-container\" hidden><div class=\"sk-item\"><div class=\"sk-estimator sk-toggleable\"><input class=\"sk-toggleable__control sk-hidden--visually\" id=\"sk-estimator-id-2\" type=\"checkbox\" checked><label for=\"sk-estimator-id-2\" class=\"sk-toggleable__label sk-toggleable__label-arrow\">SGDRegressor</label><div class=\"sk-toggleable__content\"><pre>SGDRegressor(n_iter_no_change=100, penalty=None, random_state=42, tol=1e-05)</pre></div></div></div></div></div>"
      ],
      "text/plain": [
       "SGDRegressor(n_iter_no_change=100, penalty=None, random_state=42, tol=1e-05)"
      ]
     },
     "execution_count": 29,
     "metadata": {},
     "output_type": "execute_result"
    }
   ],
   "source": [
    "sgd_reg = SGDRegressor(max_iter=1000, tol=1e-5, penalty=None, eta0=0.01, n_iter_no_change=100, random_state=42)\n",
    "sgd_reg.fit(X, y.ravel())"
   ]
  },
  {
   "cell_type": "code",
   "execution_count": 30,
   "id": "d9a78637-9022-41f5-bacb-3338a4b5ca38",
   "metadata": {},
   "outputs": [
    {
     "data": {
      "text/plain": [
       "(array([4.10387581]), array([2.95967267]))"
      ]
     },
     "execution_count": 30,
     "metadata": {},
     "output_type": "execute_result"
    }
   ],
   "source": [
    "sgd_reg.intercept_, sgd_reg.coef_"
   ]
  },
  {
   "cell_type": "code",
   "execution_count": null,
   "id": "ea9d0fa8-7da2-45da-95e5-2a25db8a0c22",
   "metadata": {},
   "outputs": [],
   "source": []
  }
 ],
 "metadata": {
  "kernelspec": {
   "display_name": "Python 3 (ipykernel)",
   "language": "python",
   "name": "python3"
  },
  "language_info": {
   "codemirror_mode": {
    "name": "ipython",
    "version": 3
   },
   "file_extension": ".py",
   "mimetype": "text/x-python",
   "name": "python",
   "nbconvert_exporter": "python",
   "pygments_lexer": "ipython3",
   "version": "3.11.5"
  }
 },
 "nbformat": 4,
 "nbformat_minor": 5
}
